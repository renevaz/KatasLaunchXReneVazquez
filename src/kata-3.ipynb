{
 "cells": [
  {
   "cell_type": "code",
   "execution_count": 24,
   "metadata": {},
   "outputs": [
    {
     "name": "stdout",
     "output_type": "stream",
     "text": [
      "--- LA FECHA DE HOY ---\n",
      "\n",
      "Today's date is: 2022-02-17\n",
      "\n",
      "---- IF, ELSE AND ELIF -----\n",
      "\n",
      "Problema 1\n",
      "ADVERTENCIA! UN ASTEROIDE SE ACERCA A LA TIERRA A GRAN VELOCIDAD! (49 km/s)\n",
      "\n",
      "Problema 2\n",
      "El asteroide no viaja a suficiente velocidad como para provocar un rayo de luz\n",
      "\n",
      "---- AND & OR OPERATORS ----\n",
      "\n",
      "Problema 3\n",
      "PELIGRO! Un asteroide se acerca a la tierra a una velocidad de 25km/s y tiene un tamaño de 40 metros\n",
      "Se puede apreciar una luz en el cielo provocada por un asteroide entrando a la atmosfera de la tierra\n"
     ]
    }
   ],
   "source": [
    "from datetime import date\n",
    "\n",
    "date.today()\n",
    "\n",
    "print(\"--- LA FECHA DE HOY ---\\n\")\n",
    "\n",
    "print(\"Today's date is: \" + str(date.today()))\n",
    "\n",
    "print(\"\\n---- IF, ELSE AND ELIF -----\")\n",
    "\n",
    "print(\"\\nProblema 1\")\n",
    "asteroidSpeed = 49\n",
    "\n",
    "if asteroidSpeed >= 25:\n",
    "    print(\"ADVERTENCIA! UN ASTEROIDE SE ACERCA A LA TIERRA A GRAN VELOCIDAD! (\" + str(asteroidSpeed) + \" km/s)\")\n",
    "else:\n",
    "    print(\"No existe peligro de un asteroide acercandose a gran velocidad\")\n",
    "\n",
    "print(\"\\nProblema 2\")\n",
    "\n",
    "asteroidSpeed2 = 19\n",
    "\n",
    "if asteroidSpeed2 > 20:\n",
    "    print(\"Miren hacia el cielo para identificar el rayo de luz provocado por el asteroide\")\n",
    "elif asteroidSpeed2 == 20:\n",
    "    print(\"Miren hacia el cielo para identificar el rayo de luz provocado por el asteroide\")\n",
    "else:\n",
    "    print(\"El asteroide no viaja a suficiente velocidad como para provocar un rayo de luz\")\n",
    "\n",
    "\n",
    "print(\"\\n---- AND & OR OPERATORS ----\")\n",
    "print(\"\\nProblema 3\")\n",
    "\n",
    "asteroidSize = 40\n",
    "asteroidSpeed3 = 25\n",
    "if asteroidSpeed3 > 25 or asteroidSize > 25:\n",
    "    print(\"PELIGRO! Un asteroide se acerca a la tierra a una velocidad de \" + str(asteroidSpeed3) + \"km/s y tiene un tamaño de \" + str(asteroidSize) + \" metros\")\n",
    "    if asteroidSpeed3 >= 20:\n",
    "        print(\"Se puede apreciar una luz en el cielo provocada por un asteroide entrando a la atmosfera de la tierra\")\n",
    "elif asteroidSpeed3 > 19 and asteroidSize < 25:\n",
    "    print(\"ADVERTENCIA! Se puede apreciar una luz en el cielo provocada por un asteroide entrando a una velocidad de \" + str(asteroidSpeed3) + \"km/s\")\n",
    "    print(\"El asteroide tiene un tamaño menor a 25 metros\")\n",
    "elif asteroidSize < 25:\n",
    "    print(\"El asteroide no representa un peligro inminente. Se quemara dentro de la atmosfera\")\n",
    "else:\n",
    "    print(\"No hay peligro de asteroides...\")"
   ]
  },
  {
   "cell_type": "markdown",
   "metadata": {},
   "source": [
    "# Kata 3 Declaraciones if, else, elif y operadores and y or"
   ]
  },
  {
   "cell_type": "markdown",
   "metadata": {},
   "source": [
    "# Rene Vazquez Rascon "
   ]
  }
 ],
 "metadata": {
  "interpreter": {
   "hash": "4d55e718dad87386e4781f753e1c7ec995fe5dd3f69e8b7df6206e4e3d3675aa"
  },
  "kernelspec": {
   "display_name": "Python 3.10.2 64-bit (windows store)",
   "language": "python",
   "name": "python3"
  },
  "language_info": {
   "codemirror_mode": {
    "name": "ipython",
    "version": 3
   },
   "file_extension": ".py",
   "mimetype": "text/x-python",
   "name": "python",
   "nbconvert_exporter": "python",
   "pygments_lexer": "ipython3",
   "version": "3.10.2"
  },
  "orig_nbformat": 4
 },
 "nbformat": 4,
 "nbformat_minor": 2
}
