{
 "cells": [
  {
   "cell_type": "code",
   "execution_count": 1,
   "metadata": {},
   "outputs": [
    {
     "name": "stdout",
     "output_type": "stream",
     "text": [
      "--- LA FECHA DE HOY ---\n",
      "\n",
      "Today's date is: 2022-02-17\n",
      "\n",
      "--- CONVERTIDOR DE UNIDADES ---\n",
      "\n",
      "11 parsec, is 35.877159999999996 lightyears\n"
     ]
    }
   ],
   "source": [
    "from datetime import date\n",
    "\n",
    "date.today()\n",
    "\n",
    "print(\"--- LA FECHA DE HOY ---\\n\")\n",
    "\n",
    "print(\"Today's date is: \" + str(date.today()))\n",
    "\n",
    "print(\"\\n--- CONVERTIDOR DE UNIDADES ---\\n\")\n",
    "\n",
    "parsec = 11\n",
    "\n",
    "lightyears = 3.26156 * parsec\n",
    "\n",
    "print(str(parsec) + \" parsec, is \" + str(lightyears) + \" lightyears\")"
   ]
  },
  {
   "cell_type": "markdown",
   "metadata": {},
   "source": [
    "# Convertidor de unidades y dar la fecha "
   ]
  },
  {
   "cell_type": "markdown",
   "metadata": {},
   "source": [
    "# Primer kata - Rene Vazquez Rascon - Programa LaunchX"
   ]
  }
 ],
 "metadata": {
  "interpreter": {
   "hash": "d1d853f9256b835208921ab0fd95233930c652a22e1c1e3c4f785820d531aba4"
  },
  "kernelspec": {
   "display_name": "Python 3.10.2 64-bit",
   "language": "python",
   "name": "python3"
  },
  "language_info": {
   "codemirror_mode": {
    "name": "ipython",
    "version": 3
   },
   "file_extension": ".py",
   "mimetype": "text/x-python",
   "name": "python",
   "nbconvert_exporter": "python",
   "pygments_lexer": "ipython3",
   "version": "3.10.2"
  },
  "orig_nbformat": 4
 },
 "nbformat": 4,
 "nbformat_minor": 2
}
