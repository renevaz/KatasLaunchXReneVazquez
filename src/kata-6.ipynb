{
 "cells": [
  {
   "cell_type": "code",
   "execution_count": 11,
   "metadata": {},
   "outputs": [
    {
     "name": "stdout",
     "output_type": "stream",
     "text": [
      "---- EJERCICIO 1 ----\n",
      "Lista de los primeros 8 planetas\n",
      "['Mercury', 'Venus', 'Earth', 'Mars', 'Jupiter', 'Saturn', 'Uranus', 'Neptune']\n",
      "Lista despues de agregar Pluton\n",
      "['Mercury', 'Venus', 'Earth', 'Mars', 'Jupiter', 'Saturn', 'Uranus', 'Neptune', 'Pluto']\n",
      "\n",
      "---- EJERCICIO 2 ----\n",
      "Estos son los planetas que se encuentran mas cerca del Sol que el planeta: Earth\n",
      "['Mercury', 'Venus']\n",
      "Estos son los planetas que se encuentran mas lejos del Sol que el planeta: Earth\n",
      "['Mars', 'Jupiter', 'Saturn', 'Uranus', 'Neptune']\n"
     ]
    }
   ],
   "source": [
    "print('---- EJERCICIO 1 ----')\n",
    "planets = ['Mercury','Venus','Earth','Mars','Jupiter','Saturn','Uranus','Neptune']\n",
    "print('Lista de los primeros 8 planetas')\n",
    "print(planets)\n",
    "print('Lista despues de agregar Pluton')\n",
    "planets.append('Pluto')\n",
    "print(planets)\n",
    "\n",
    "print('\\n---- EJERCICIO 2 ----')\n",
    "planets = planets[0:8]\n",
    "nombrePlaneta = input(\"Ingrese el nombre de un planeta (en ingles y la primer letra con mayuscula):\")\n",
    "indicePlaneta = planets.index(nombrePlaneta)\n",
    "print(\"Estos son los planetas que se encuentran mas cerca del Sol que el planeta \" + nombrePlaneta)\n",
    "print(planets[0:indicePlaneta])\n",
    "print(\"Estos son los planetas que se encuentran mas lejos del Sol que el planeta \" + nombrePlaneta)\n",
    "print(planets[indicePlaneta + 1:])"
   ]
  },
  {
   "cell_type": "markdown",
   "metadata": {},
   "source": [
    "# Kata 6 - Listas\n",
    "# Rene Vazquez Rascon"
   ]
  }
 ],
 "metadata": {
  "interpreter": {
   "hash": "d1d853f9256b835208921ab0fd95233930c652a22e1c1e3c4f785820d531aba4"
  },
  "kernelspec": {
   "display_name": "Python 3.10.2 64-bit",
   "language": "python",
   "name": "python3"
  },
  "language_info": {
   "codemirror_mode": {
    "name": "ipython",
    "version": 3
   },
   "file_extension": ".py",
   "mimetype": "text/x-python",
   "name": "python",
   "nbconvert_exporter": "python",
   "pygments_lexer": "ipython3",
   "version": "3.10.2"
  },
  "orig_nbformat": 4
 },
 "nbformat": 4,
 "nbformat_minor": 2
}
