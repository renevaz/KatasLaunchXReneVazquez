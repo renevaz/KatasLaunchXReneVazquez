{
 "cells": [
  {
   "cell_type": "code",
   "execution_count": 15,
   "metadata": {},
   "outputs": [
    {
     "name": "stdout",
     "output_type": "stream",
     "text": [
      "\n",
      "---- EJERCICIO 1 ----\n",
      "Reporte de combustible de la nave:\n",
      "    tanque1: 80%\n",
      "    tanque2: 70%\n",
      "    tanque3: 85%\n",
      "    promedio: 78.33%\n",
      "\n",
      "---- EJERCICIO 2 -----\n",
      "\n",
      "    Mision a Luna\n",
      "    Tiempo total del viaje: 76 minutos\n",
      "    Combustible restante 500000 galones\n",
      "    tanque_interno ---> 300000 galones disponibles\n",
      "tanque_externo ---> 200000 galones disponibles\n",
      "\n"
     ]
    }
   ],
   "source": [
    "# print('\\n---- EJERCICIO 1 ----')\n",
    "# def informes(tanque1, tanque2, tanque3):\n",
    "#     promedio = (tanque1 + tanque2 + tanque3) / 3\n",
    "#     return f\"\"\"Reporte de combustible de la nave:\n",
    "#     tanque1: {tanque1}%\n",
    "#     tanque2: {tanque2}%\n",
    "#     tanque3: {tanque3}%\n",
    "#     promedio: {round(promedio, 2)}%\"\"\"\n",
    "\n",
    "def promedio(datos):\n",
    "    total = sum(datos)\n",
    "    cantidad_datos = len(datos)\n",
    "    return total / cantidad_datos\n",
    "\n",
    "print('\\n---- EJERCICIO 1 ----')\n",
    "def informes(tanque1, tanque2, tanque3):\n",
    "    return f\"\"\"Reporte de combustible de la nave:\n",
    "    tanque1: {tanque1}%\n",
    "    tanque2: {tanque2}%\n",
    "    tanque3: {tanque3}%\n",
    "    promedio: {round(promedio([tanque1, tanque2, tanque3]),2)}%\"\"\"\n",
    "\n",
    "print(informes(80, 70, 85))\n",
    "\n",
    "print('\\n---- EJERCICIO 2 -----')\n",
    "# def reporte_de_mision(hora_pre, tiempo_vuelo, destino, tanque_externo, tanque_interno):\n",
    "#     return f\"\"\"\n",
    "#     Mision a {destino}\n",
    "#     Tiempo total del viaje: {hora_pre + tiempo_vuelo} minutos\n",
    "#     Combustible restante {tanque_externo + tanque_interno} galones\n",
    "#     \"\"\"\n",
    "\n",
    "# print(reporte_de_mision(14, 51, \"Luna\", 200000, 300000))\n",
    "\n",
    "# def reporte_de_mision(destino, *minutos, **reservas_de_combustible):\n",
    "#     return f\"\"\"\n",
    "#     Mision a {destino}\n",
    "#     Tiempo total del viaje: {sum(minutos)} minutos\n",
    "#     Combustible restante {sum(reservas_de_combustible.values())} galones\n",
    "#     \"\"\"\n",
    "\n",
    "# print(reporte_de_mision(\"Luna\", 10, 15, 51, interno=300000, externo=200000))\n",
    "\n",
    "def reporte_de_mision(destino, *minutos, **reservas_de_combustible):\n",
    "    reporte =  f\"\"\"\n",
    "    Mision a {destino}\n",
    "    Tiempo total del viaje: {sum(minutos)} minutos\n",
    "    Combustible restante {sum(reservas_de_combustible.values())} galones\n",
    "    \"\"\"\n",
    "\n",
    "    for nombre_tanque, galones in reservas_de_combustible.items():\n",
    "        reporte += f\"{nombre_tanque} ---> {galones} galones disponibles\\n\"\n",
    "    return reporte\n",
    "\n",
    "print(reporte_de_mision(\"Luna\", 10, 15, 51, tanque_interno=300000, tanque_externo=200000))"
   ]
  },
  {
   "cell_type": "markdown",
   "metadata": {},
   "source": [
    "# Kata 9 - Funciones\n",
    "# Rene Vazquez Rascon"
   ]
  },
  {
   "cell_type": "markdown",
   "metadata": {},
   "source": []
  }
 ],
 "metadata": {
  "interpreter": {
   "hash": "4d55e718dad87386e4781f753e1c7ec995fe5dd3f69e8b7df6206e4e3d3675aa"
  },
  "kernelspec": {
   "display_name": "Python 3.10.2 64-bit (windows store)",
   "language": "python",
   "name": "python3"
  },
  "language_info": {
   "codemirror_mode": {
    "name": "ipython",
    "version": 3
   },
   "file_extension": ".py",
   "mimetype": "text/x-python",
   "name": "python",
   "nbconvert_exporter": "python",
   "pygments_lexer": "ipython3",
   "version": "3.10.2"
  },
  "orig_nbformat": 4
 },
 "nbformat": 4,
 "nbformat_minor": 2
}
