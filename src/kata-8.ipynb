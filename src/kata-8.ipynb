{
 "cells": [
  {
   "cell_type": "code",
   "execution_count": 16,
   "metadata": {},
   "outputs": [
    {
     "name": "stdout",
     "output_type": "stream",
     "text": [
      "\n",
      "---- Ejercicio 1 ----\n",
      "El planeta Mars tiene 2 lunas\n",
      "Planet Mars has 2 moons\n",
      "Mars tiene una circunferencia polar de 6752 km\n",
      "Mars has a polar circumference of 6752 km\n",
      "\n",
      "---- Ejercicio 2 ----\n",
      "The average number of moons for each planet is: 17.83 moons\n"
     ]
    }
   ],
   "source": [
    "print('\\n---- Ejercicio 1 ----')\n",
    "planet = {\n",
    "    'name': 'Mars',\n",
    "    'moons': 2\n",
    "}\n",
    "\n",
    "print(f\"El planeta {planet['name']} tiene {planet['moons']} lunas\")\n",
    "print(f\"Planet {planet['name']} has {planet['moons']} moons\")\n",
    "\n",
    "planet['circumference (km)'] = {\n",
    "    'polar': 6752,\n",
    "    'equatorial': 6792\n",
    "}\n",
    "\n",
    "print(f\"{planet['name']} tiene una circunferencia polar de {planet['circumference (km)']['polar']} km\")\n",
    "print(f\"{planet['name']} has a polar circumference of {planet['circumference (km)']['polar']} km\")\n",
    "\n",
    "print('\\n---- Ejercicio 2 ----')\n",
    "planet_moons = {\n",
    "    'mercury': 0,\n",
    "    'venus': 0,\n",
    "    'earth': 1,\n",
    "    'mars': 2,\n",
    "    'jupiter': 79,\n",
    "    'saturn': 82,\n",
    "    'uranus': 27,\n",
    "    'neptune': 14,\n",
    "    'pluto': 5,\n",
    "    'haumea': 2,\n",
    "    'makemake': 1,\n",
    "    'eris': 1\n",
    "}\n",
    "\n",
    "moons = planet_moons.values()\n",
    "planets = len(planet_moons.keys())\n",
    "\n",
    "total_moons = 0\n",
    "for moon in moons:\n",
    "    total_moons = total_moons + moon\n",
    "\n",
    "average = total_moons / planets\n",
    "print('The average number of moons for each planet is: ' + str(round(average, 2)) + ' moons')\n"
   ]
  },
  {
   "cell_type": "markdown",
   "metadata": {},
   "source": [
    "# Kata 8 - Diccionarios"
   ]
  },
  {
   "cell_type": "markdown",
   "metadata": {},
   "source": [
    "# Rene Vazquez Rascon"
   ]
  },
  {
   "cell_type": "markdown",
   "metadata": {},
   "source": []
  }
 ],
 "metadata": {
  "interpreter": {
   "hash": "d1d853f9256b835208921ab0fd95233930c652a22e1c1e3c4f785820d531aba4"
  },
  "kernelspec": {
   "display_name": "Python 3.10.2 64-bit",
   "language": "python",
   "name": "python3"
  },
  "language_info": {
   "codemirror_mode": {
    "name": "ipython",
    "version": 3
   },
   "file_extension": ".py",
   "mimetype": "text/x-python",
   "name": "python",
   "nbconvert_exporter": "python",
   "pygments_lexer": "ipython3",
   "version": "3.10.2"
  },
  "orig_nbformat": 4
 },
 "nbformat": 4,
 "nbformat_minor": 2
}
