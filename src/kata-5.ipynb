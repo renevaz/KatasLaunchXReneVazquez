{
 "cells": [
  {
   "cell_type": "code",
   "execution_count": null,
   "metadata": {},
   "outputs": [
    {
     "ename": "",
     "evalue": "",
     "output_type": "error",
     "traceback": [
      "\u001b[1;31mRunning cells with 'Python 3.10.2 64-bit (windows store)' requires ipykernel package.\n",
      "Run the following command to install 'ipykernel' into the Python environment. \n",
      "Command: 'C:/Users/renev/AppData/Local/Microsoft/WindowsApps/python3.10.exe -m pip install ipykernel -U --user --force-reinstall'"
     ]
    }
   ],
   "source": [
    "tierra = 149597870\n",
    "jupiter = 778547200\n",
    "\n",
    "print('\\n-------- EJERCICIO 1 --------')\n",
    "distancia = jupiter - tierra\n",
    "print('La distancia entre Jupiter y la tierra es de ' + str(distancia) + ' km o ' + str(round(distancia * 0.621)) + ' millas')\n",
    "\n",
    "print('\\n-------- EJERCICIO 2 --------')\n",
    "print('PROGRAMA DE CONSOLA QUE CALCULA LA DISTANCIA ENTRE 2 PLANETAS')\n",
    "print('Introduzca las distancias del sol a los planetas en kilometros')\n",
    "planeta1 = input('Primer planeta: ')\n",
    "planeta2 = input('Segundo planeta: ')\n",
    "\n",
    "planeta1 = int(planeta1)\n",
    "planeta2 = int(planeta2)\n",
    "\n",
    "distanciaEnKM = planeta2 - planeta1\n",
    "distanciaEnMillas = distanciaEnKM * 0.621\n",
    "print('La distancia entre los planetas es de ' + str(abs(distanciaEnKM)) + ' kilometros o ' + str(round(abs(distanciaEnMillas))) + ' millas')"
   ]
  },
  {
   "cell_type": "markdown",
   "metadata": {},
   "source": [
    "# Kata 5 - Operadores Aritmeticos\n",
    "# Rene Vazquez Rascon"
   ]
  }
 ],
 "metadata": {
  "interpreter": {
   "hash": "d1d853f9256b835208921ab0fd95233930c652a22e1c1e3c4f785820d531aba4"
  },
  "kernelspec": {
   "display_name": "Python 3.10.2 64-bit",
   "language": "python",
   "name": "python3"
  },
  "language_info": {
   "codemirror_mode": {
    "name": "ipython",
    "version": 3
   },
   "file_extension": ".py",
   "mimetype": "text/x-python",
   "name": "python",
   "nbconvert_exporter": "python",
   "pygments_lexer": "ipython3",
   "version": "3.10.2"
  },
  "orig_nbformat": 4
 },
 "nbformat": 4,
 "nbformat_minor": 2
}
