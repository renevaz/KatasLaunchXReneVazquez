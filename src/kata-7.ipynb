{
 "cells": [
  {
   "cell_type": "code",
   "execution_count": 8,
   "metadata": {},
   "outputs": [
    {
     "name": "stdout",
     "output_type": "stream",
     "text": [
      "\n",
      "---- EJERCICIO 1 ----\n",
      "Field cannot be empty. You have to write the name of a planet\n",
      "Field cannot be empty. You have to write the name of a planet\n",
      "\n",
      "---- EJERCICIO 2 ----\n",
      "Mercury\n",
      "Saturn\n",
      "Earth\n",
      "Mars\n",
      "Jupiter\n",
      "Venus\n",
      "Neptune\n",
      "Pluto\n"
     ]
    }
   ],
   "source": [
    "print('\\n---- EJERCICIO 1 ----')\n",
    "new_planet = ''\n",
    "planets = []\n",
    "\n",
    "while new_planet != 'done':\n",
    "    new_planet = input('Write the name of a planets to add to your list. Write \"done\" if you want to exit')\n",
    "    if new_planet and new_planet != 'done':\n",
    "        planets.append(new_planet)\n",
    "    elif new_planet == '':\n",
    "        print('Field cannot be empty. You have to write the name of a planet')\n",
    "\n",
    "print('\\n---- EJERCICIO 2 ----')\n",
    "for planet in planets:\n",
    "    print(planet)\n"
   ]
  },
  {
   "cell_type": "markdown",
   "metadata": {},
   "source": [
    "# Kata 7 - Estructuras de control\n",
    "# Rene Vazquez Rascon"
   ]
  }
 ],
 "metadata": {
  "interpreter": {
   "hash": "d1d853f9256b835208921ab0fd95233930c652a22e1c1e3c4f785820d531aba4"
  },
  "kernelspec": {
   "display_name": "Python 3.10.2 64-bit",
   "language": "python",
   "name": "python3"
  },
  "language_info": {
   "codemirror_mode": {
    "name": "ipython",
    "version": 3
   },
   "file_extension": ".py",
   "mimetype": "text/x-python",
   "name": "python",
   "nbconvert_exporter": "python",
   "pygments_lexer": "ipython3",
   "version": "3.10.2"
  },
  "orig_nbformat": 4
 },
 "nbformat": 4,
 "nbformat_minor": 2
}
